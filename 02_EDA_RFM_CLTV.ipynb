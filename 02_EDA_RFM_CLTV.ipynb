{
 "cells": [
  {
   "cell_type": "code",
   "execution_count": null,
   "id": "d3e69abc",
   "metadata": {},
   "outputs": [],
   "source": [
    "# Notebook: 02_EDA_RFM_CLTV.ipynb\n",
    "# EDA: daily orders, delivery delay, basic RFM\n",
    "import pandas as pd\n",
    "orders = pd.read_csv('data/fact_orders.csv', parse_dates=['order_placed_timestamp'])\n",
    "order_items = pd.read_csv('data/fact_order_items.csv')\n",
    "orders['order_date'] = orders['order_placed_timestamp'].dt.date\n",
    "# daily orders\n",
    "print(orders.groupby('order_date').order_id.count().head())\n",
    "# delivery delay\n",
    "orders['delivery_delay'] = orders['order_delivery_time_minutes'] - orders['order_promised_minutes']\n",
    "print(orders['delivery_delay'].describe())\n",
    "# RFM\n",
    "snapshot = orders['order_placed_timestamp'].max() + pd.Timedelta(days=1)\n",
    "rfm = orders.groupby('customer_id').agg({'order_placed_timestamp':'max','order_id':'nunique','total_amount':'sum'}).reset_index()\n",
    "rfm['recency'] = (snapshot - rfm['order_placed_timestamp']).dt.days\n",
    "rfm = rfm[['customer_id','recency','order_id','total_amount']]\n",
    "rfm.columns = ['customer_id','recency','frequency','monetary']\n",
    "print(rfm.head())\n"
   ]
  },
  {
   "cell_type": "code",
   "execution_count": null,
   "id": "13ee1943",
   "metadata": {},
   "outputs": [],
   "source": [
    "import matplotlib.pyplot as plt\n",
    "import seaborn as sns\n",
    "\n",
    "# plot daily orders\n",
    "plt.figure(figsize=(10,4))\n",
    "orders.groupby('order_date').order_id.count().plot()\n",
    "plt.title('Daily Orders Trend')\n",
    "plt.ylabel('Orders')\n",
    "plt.show()\n",
    "\n",
    "# histogram of delivery delay\n",
    "plt.figure(figsize=(6,4))\n",
    "orders['delivery_delay'].hist(bins=40)\n",
    "plt.title('Distribution of Delivery Delay (minutes)')\n",
    "plt.show()"
   ]
  }
 ],
 "metadata": {},
 "nbformat": 4,
 "nbformat_minor": 5
}
