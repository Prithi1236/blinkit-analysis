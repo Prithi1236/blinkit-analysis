{
 "cells": [
  {
   "cell_type": "code",
   "execution_count": null,
   "id": "9dd093cf",
   "metadata": {},
   "outputs": [],
   "source": [
    "# Notebook: 03_forecasting_prophet.ipynb\n",
    "# Simple forecast example using Prophet (install prophet before running)\n",
    "import pandas as pd\n",
    "from prophet import Prophet\n",
    "orders = pd.read_csv('data/fact_orders.csv', parse_dates=['order_placed_timestamp'])\n",
    "orders['order_date'] = orders['order_placed_timestamp'].dt.date\n",
    "daily = orders.groupby('order_date').order_id.count().reset_index()\n",
    "daily.columns = ['ds','y']\n",
    "daily['ds'] = pd.to_datetime(daily['ds'])\n",
    "print(daily.head())\n",
    "# model = Prophet()\n",
    "# model.fit(daily)\n",
    "# future = model.make_future_dataframe(periods=28)\n",
    "# forecast = model.predict(future)\n",
    "# forecast[['ds','yhat','yhat_lower','yhat_upper']].tail()\n"
   ]
  },
  {
   "cell_type": "code",
   "execution_count": null,
   "id": "0309f134",
   "metadata": {},
   "outputs": [],
   "source": [
    "# Plot daily orders series\n",
    "import matplotlib.pyplot as plt\n",
    "daily.set_index('ds')['y'].plot(figsize=(10,4))\n",
    "plt.title('Daily Orders Time Series')\n",
    "plt.show()\n",
    "\n",
    "# Prophet forecast (uncomment when Prophet is installed)\n",
    "# fig1 = model.plot(forecast)\n",
    "# plt.show()"
   ]
  }
 ],
 "metadata": {},
 "nbformat": 4,
 "nbformat_minor": 5
}
