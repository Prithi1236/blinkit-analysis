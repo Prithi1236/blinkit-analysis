{
 "cells": [
  {
   "cell_type": "code",
   "execution_count": null,
   "id": "88cce6e0",
   "metadata": {},
   "outputs": [],
   "source": [
    "# Notebook: 04_recommendation_association_rules.ipynb\n",
    "# Association rules with mlxtend\n",
    "import pandas as pd\n",
    "from mlxtend.frequent_patterns import apriori, association_rules\n",
    "order_items = pd.read_csv('data/fact_order_items.csv')\n",
    "# pivot to basket\n",
    "basket = order_items.groupby(['order_id','product_id'])['quantity'].sum().unstack(fill_value=0)\n",
    "basket = basket.applymap(lambda x: 1 if x>0 else 0)\n",
    "print('basket shape', basket.shape)\n",
    "# frequent_itemsets = apriori(basket, min_support=0.01, use_colnames=True)\n",
    "# rules = association_rules(frequent_itemsets, metric='lift', min_threshold=1.2)\n",
    "# print(rules.head())\n"
   ]
  },
  {
   "cell_type": "code",
   "execution_count": null,
   "id": "8b41a33e",
   "metadata": {},
   "outputs": [],
   "source": [
    "# If rules computed, preview top 10\n",
    "# rules.sort_values('lift', ascending=False).head(10)"
   ]
  }
 ],
 "metadata": {},
 "nbformat": 4,
 "nbformat_minor": 5
}
