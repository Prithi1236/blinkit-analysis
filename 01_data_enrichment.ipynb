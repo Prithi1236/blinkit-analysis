{
 "cells": [
  {
   "cell_type": "code",
   "execution_count": null,
   "id": "2f6adee0",
   "metadata": {},
   "outputs": [],
   "source": [
    "# Notebook: 01_data_enrichment.ipynb\n",
    "# Load sample CSVs and show head\n",
    "import pandas as pd\n",
    "customers = pd.read_csv('data/dim_customers.csv', parse_dates=['signup_date'])\n",
    "products = pd.read_csv('data/dim_products.csv')\n",
    "orders = pd.read_csv('data/fact_orders.csv', parse_dates=['order_placed_timestamp'])\n",
    "order_items = pd.read_csv('data/fact_order_items.csv')\n",
    "print(customers.shape)\n",
    "print(products.shape)\n",
    "print(orders.shape)\n",
    "print(order_items.shape)\n",
    "customers.head()\n"
   ]
  },
  {
   "cell_type": "code",
   "execution_count": null,
   "id": "2cb3e818",
   "metadata": {},
   "outputs": [],
   "source": [
    "# Preview customers\n",
    "customers.head()"
   ]
  },
  {
   "cell_type": "code",
   "execution_count": null,
   "id": "a3b37545",
   "metadata": {},
   "outputs": [],
   "source": [
    "# Summary of orders\n",
    "orders.describe(include='all')"
   ]
  }
 ],
 "metadata": {},
 "nbformat": 4,
 "nbformat_minor": 5
}
